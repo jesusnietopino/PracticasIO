{
  "nbformat": 4,
  "nbformat_minor": 0,
  "metadata": {
    "colab": {
      "name": "Pruebas IO.ipynb",
      "provenance": [],
      "authorship_tag": "ABX9TyM1FlHExMItc7MuhKvycpHc",
      "include_colab_link": true
    },
    "kernelspec": {
      "name": "python3",
      "display_name": "Python 3"
    },
    "language_info": {
      "name": "python"
    }
  },
  "cells": [
    {
      "cell_type": "markdown",
      "metadata": {
        "id": "view-in-github",
        "colab_type": "text"
      },
      "source": [
        "<a href=\"https://colab.research.google.com/github/jesusnietopino/PracticasIO/blob/main/Pruebas_IO.ipynb\" target=\"_parent\"><img src=\"https://colab.research.google.com/assets/colab-badge.svg\" alt=\"Open In Colab\"/></a>"
      ]
    },
    {
      "cell_type": "markdown",
      "metadata": {
        "id": "BV9GYPIJ8AKp"
      },
      "source": [
        "# **Notebook para pruebas parte práctica Ingeniería de Organización**"
      ]
    },
    {
      "cell_type": "markdown",
      "metadata": {
        "id": "hHNgBSYr8Mgf"
      },
      "source": [
        "  En este notebook, intentaremos comprobar la viabilidad de la realización de la parte práctica haciendo uso de la herramienta de Jupyter Notebooks. Veremos dicha viabilidad en la ejecución de dichos Notebooks a través de la herramienta de Google Colab. Con un simple clic en el banner de Google Colab, podremos ejecutar facilmente en esta plataforma totalmente en remoto, sin apenas necesidad de capacidad de computación del dispositivo. "
      ]
    },
    {
      "cell_type": "markdown",
      "metadata": {
        "id": "BxmOKIcY8-Wc"
      },
      "source": [
        "# Pruebas con el tutorial de la introducción a Python.\n"
      ]
    }
  ]
}