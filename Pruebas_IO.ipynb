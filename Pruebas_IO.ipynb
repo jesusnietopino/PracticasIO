{
  "nbformat": 4,
  "nbformat_minor": 0,
  "metadata": {
    "colab": {
      "name": "Pruebas IO.ipynb",
      "provenance": [],
      "authorship_tag": "ABX9TyN/6yiTbYQTv8tOSbBT4+kF",
      "include_colab_link": true
    },
    "kernelspec": {
      "name": "python3",
      "display_name": "Python 3"
    },
    "language_info": {
      "name": "python"
    }
  },
  "cells": [
    {
      "cell_type": "markdown",
      "metadata": {
        "id": "view-in-github",
        "colab_type": "text"
      },
      "source": [
        "<a href=\"https://colab.research.google.com/github/jesusnietopino/PracticasIO/blob/main/Pruebas_IO.ipynb\" target=\"_parent\"><img src=\"https://colab.research.google.com/assets/colab-badge.svg\" alt=\"Open In Colab\"/></a>"
      ]
    },
    {
      "cell_type": "markdown",
      "metadata": {
        "id": "BV9GYPIJ8AKp"
      },
      "source": [
        "# **Notebook para pruebas parte práctica Ingeniería de Organización**"
      ]
    },
    {
      "cell_type": "markdown",
      "metadata": {
        "id": "hHNgBSYr8Mgf"
      },
      "source": [
        "  En este notebook, intentaremos comprobar la viabilidad de la realización de la parte práctica haciendo uso de la herramienta de Jupyter Notebooks. Veremos dicha viabilidad en la ejecución de dichos Notebooks a través de la herramienta de Google Colab. Con un simple clic en el banner de Google Colab, podremos ejecutar facilmente en esta plataforma totalmente en remoto, sin apenas necesidad de capacidad de computación del dispositivo. "
      ]
    },
    {
      "cell_type": "markdown",
      "metadata": {
        "id": "BxmOKIcY8-Wc"
      },
      "source": [
        "# Pruebas con el tutorial de la introducción a Python.\n",
        "  Comprobamos en este apartado el óptimo funcionamiento de esta herramienta haciendo uso del código proporcionado en la Introducción a Python. Aunque es algo muy básico, nos sirve para probar esta herramienta. "
      ]
    },
    {
      "cell_type": "markdown",
      "metadata": {
        "id": "d1eUruBC-qMc"
      },
      "source": [
        "# Variables(básico)"
      ]
    },
    {
      "cell_type": "code",
      "metadata": {
        "id": "9N76NKdU-z9U"
      },
      "source": [
        "entero = 5\n",
        "flotante = 2.43\n",
        "cadena = \"Hola de nuevo\"\n",
        "lista_a= [1, 2, 3, 4, 5]\n",
        "lista_b= [1, [4,5], 2, \"Hola otra vez\", 4, 5]"
      ],
      "execution_count": 2,
      "outputs": []
    },
    {
      "cell_type": "markdown",
      "metadata": {
        "id": "ZTqn8UlP--CR"
      },
      "source": [
        "Vamos a mostrar por pantalla los valores de las variables que hemos creado, y comprobar el tipo(actual) de una variable"
      ]
    },
    {
      "cell_type": "code",
      "metadata": {
        "colab": {
          "base_uri": "https://localhost:8080/"
        },
        "id": "r84NPQJ9_DFx",
        "outputId": "40fdc5ee-5b30-4435-c70e-d68793e03801"
      },
      "source": [
        "print (\"Valor Entero %d\" % entero)\n",
        "print (\"Valor Flotante %f\" % flotante)\n",
        "print (\"Valor Cadena %s\" % cadena)\n",
        "\n",
        "type(lista_a) # en IPython o\n",
        "print(type(lista_a))"
      ],
      "execution_count": 3,
      "outputs": [
        {
          "output_type": "stream",
          "name": "stdout",
          "text": [
            "Valor Entero 5\n",
            "Valor Flotante 2.430000\n",
            "Valor Cadena Hola de nuevo\n",
            "<class 'list'>\n"
          ]
        }
      ]
    },
    {
      "cell_type": "markdown",
      "metadata": {
        "id": "NSze9oVU_P4b"
      },
      "source": [
        "# Operadores aritméticos\n",
        "Suma y resta de variables"
      ]
    },
    {
      "cell_type": "code",
      "metadata": {
        "colab": {
          "base_uri": "https://localhost:8080/"
        },
        "id": "Otf_xJki_fBk",
        "outputId": "b3b3f8f4-ef95-4e3a-9d71-30d006e66696"
      },
      "source": [
        "print (entero + flotante) # Permite suma tipo numérico\n",
        "print (entero - flotante) # Permite suma tipo numérico"
      ],
      "execution_count": 4,
      "outputs": [
        {
          "output_type": "stream",
          "name": "stdout",
          "text": [
            "7.43\n",
            "2.57\n"
          ]
        }
      ]
    },
    {
      "cell_type": "markdown",
      "metadata": {
        "id": "Uetd9KAL_iRx"
      },
      "source": [
        "Multiplicación y división"
      ]
    },
    {
      "cell_type": "code",
      "metadata": {
        "colab": {
          "base_uri": "https://localhost:8080/"
        },
        "id": "FQgfFOoL_mws",
        "outputId": "31362ee9-ddd3-4a4f-86be-8ae20c027920"
      },
      "source": [
        "print (entero * flotante)\n",
        "print (entero / flotante)\n",
        "print (entero // flotante) # división con redondeo hacia abajo\n",
        "#Ojo!, resultado entero si versión Python < 3 flotante en otro caso\n",
        "from __future__ import division #corrige este problema\n"
      ],
      "execution_count": 8,
      "outputs": [
        {
          "output_type": "stream",
          "name": "stdout",
          "text": [
            "12.15\n",
            "2.05761316872428\n",
            "2.0\n"
          ]
        }
      ]
    },
    {
      "cell_type": "markdown",
      "metadata": {
        "id": "IAK9PgB1_-ri"
      },
      "source": [
        "Potencia"
      ]
    },
    {
      "cell_type": "code",
      "metadata": {
        "colab": {
          "base_uri": "https://localhost:8080/"
        },
        "id": "r7pCzO3rAG6Q",
        "outputId": "c07caed7-a0a0-4455-86f1-9aba27bd04e7"
      },
      "source": [
        "n = 3**2\n",
        "print( n ) "
      ],
      "execution_count": 10,
      "outputs": [
        {
          "output_type": "stream",
          "name": "stdout",
          "text": [
            "9\n"
          ]
        }
      ]
    }
  ]
}