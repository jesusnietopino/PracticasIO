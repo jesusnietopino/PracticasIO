{
  "nbformat": 4,
  "nbformat_minor": 0,
  "metadata": {
    "colab": {
      "name": "Pruebas IO.ipynb",
      "provenance": [],
      "authorship_tag": "ABX9TyNW+Z3WbuAqCGXosZ+uJjrJ",
      "include_colab_link": true
    },
    "kernelspec": {
      "name": "python3",
      "display_name": "Python 3"
    },
    "language_info": {
      "name": "python"
    }
  },
  "cells": [
    {
      "cell_type": "markdown",
      "metadata": {
        "id": "view-in-github",
        "colab_type": "text"
      },
      "source": [
        "<a href=\"https://colab.research.google.com/github/jesusnietopino/PracticasIO/blob/main/Pruebas_IO.ipynb\" target=\"_parent\"><img src=\"https://colab.research.google.com/assets/colab-badge.svg\" alt=\"Open In Colab\"/></a>"
      ]
    },
    {
      "cell_type": "markdown",
      "metadata": {
        "id": "BV9GYPIJ8AKp"
      },
      "source": [
        "# **Notebook para pruebas parte práctica Ingeniería de Organización**"
      ]
    },
    {
      "cell_type": "markdown",
      "metadata": {
        "id": "hHNgBSYr8Mgf"
      },
      "source": [
        "  En este notebook, intentaremos comprobar la viabilidad de la realización de la parte práctica haciendo uso de la herramienta de Jupyter Notebooks. Veremos dicha viabilidad en la ejecución de dichos Notebooks a través de la herramienta de Google Colab. Con un simple clic en el banner de Google Colab, podremos ejecutar facilmente en esta plataforma totalmente en remoto, sin apenas necesidad de capacidad de computación del dispositivo. "
      ]
    },
    {
      "cell_type": "markdown",
      "metadata": {
        "id": "BxmOKIcY8-Wc"
      },
      "source": [
        "# Pruebas con el tutorial de la introducción a Python.\n",
        "  Comprobamos en este apartado el óptimo funcionamiento de esta herramienta haciendo uso del código proporcionado en la Introducción a Python. Aunque es algo muy básico, nos sirve para probar esta herramienta. "
      ]
    },
    {
      "cell_type": "markdown",
      "metadata": {
        "id": "d1eUruBC-qMc"
      },
      "source": [
        "# Variables(básico)"
      ]
    },
    {
      "cell_type": "code",
      "metadata": {
        "id": "9N76NKdU-z9U"
      },
      "source": [
        "entero = 5\n",
        "flotante = 2.43\n",
        "cadena = \"Hola de nuevo\"\n",
        "lista_a= [1, 2, 3, 4, 5]\n",
        "lista_b= [1, [4,5], 2, \"Hola otra vez\", 4, 5]"
      ],
      "execution_count": null,
      "outputs": []
    },
    {
      "cell_type": "markdown",
      "metadata": {
        "id": "ZTqn8UlP--CR"
      },
      "source": [
        "Vamos a mostrar por pantalla los valores de las variables que hemos creado, y comprobar el tipo(actual) de una variable"
      ]
    },
    {
      "cell_type": "code",
      "metadata": {
        "id": "r84NPQJ9_DFx"
      },
      "source": [
        "print (\"Valor Entero %d\" % entero)\n",
        "print (\"Valor Flotante %f\" % flotante)\n",
        "print (\"Valor Cadena %s\" % cadena)\n",
        "\n",
        "type(lista_a) # en IPython o\n",
        "print(type(lista_a))"
      ],
      "execution_count": null,
      "outputs": []
    },
    {
      "cell_type": "markdown",
      "metadata": {
        "id": "NSze9oVU_P4b"
      },
      "source": [
        "# Operadores aritméticos\n",
        "**Suma y resta de variables**"
      ]
    },
    {
      "cell_type": "code",
      "metadata": {
        "id": "Otf_xJki_fBk"
      },
      "source": [
        "print (entero + flotante) # Permite suma tipo numérico\n",
        "print (entero - flotante) # Permite suma tipo numérico"
      ],
      "execution_count": null,
      "outputs": []
    },
    {
      "cell_type": "markdown",
      "metadata": {
        "id": "Uetd9KAL_iRx"
      },
      "source": [
        "**Multiplicación y división**"
      ]
    },
    {
      "cell_type": "code",
      "metadata": {
        "id": "FQgfFOoL_mws"
      },
      "source": [
        "print (entero * flotante)\n",
        "print (entero / flotante)\n",
        "print (entero // flotante) # división con redondeo hacia abajo\n",
        "#Ojo!, resultado entero si versión Python < 3 flotante en otro caso\n",
        "from __future__ import division #corrige este problema\n"
      ],
      "execution_count": null,
      "outputs": []
    },
    {
      "cell_type": "markdown",
      "metadata": {
        "id": "IAK9PgB1_-ri"
      },
      "source": [
        "**Potencia**"
      ]
    },
    {
      "cell_type": "code",
      "metadata": {
        "id": "r7pCzO3rAG6Q"
      },
      "source": [
        "n = 3**2\n",
        "print( n ) "
      ],
      "execution_count": null,
      "outputs": []
    },
    {
      "cell_type": "markdown",
      "metadata": {
        "id": "-dxU5EHLAh3T"
      },
      "source": [
        "**Resto (de un cociente)**"
      ]
    },
    {
      "cell_type": "code",
      "metadata": {
        "id": "we8zlRbjArsD"
      },
      "source": [
        "print(entero % flotante)\n",
        "print(flotante % flotante)"
      ],
      "execution_count": null,
      "outputs": []
    },
    {
      "cell_type": "markdown",
      "metadata": {
        "id": "28NeVA3IA3Yv"
      },
      "source": [
        "# Operadores de pertenencia\n",
        "**Operador “in” y “not in”**"
      ]
    },
    {
      "cell_type": "code",
      "metadata": {
        "colab": {
          "base_uri": "https://localhost:8080/"
        },
        "id": "bEWksCXkA-eI",
        "outputId": "b73044ef-6ca4-4062-9e77-3ab62ec7ea2d"
      },
      "source": [
        "lista = ['a' , 'b', 'c', 'd']\n",
        "'a' in lista\n",
        "'e' in lista\n",
        "'e' not in lista"
      ],
      "execution_count": 11,
      "outputs": [
        {
          "output_type": "execute_result",
          "data": {
            "text/plain": [
              "True"
            ]
          },
          "metadata": {},
          "execution_count": 11
        }
      ]
    },
    {
      "cell_type": "markdown",
      "metadata": {
        "id": "uF0LBcANBIhL"
      },
      "source": [
        "# Estructuras de Datos (Secuencias)\n",
        "\n",
        "\n",
        "*   Listas, Tuplas, Diccionarios, Cadenas y Conjuntos\n",
        "\n",
        "Python contiene diferentes tipos de datos que consisten en una\n",
        "secuencia (“lista”) de variables u otras estructuras con la\n",
        "característica de que permiten el acceso a los datos:\n",
        "- Indexado\n",
        "- Slicing (a un subconjunto)\n",
        "\n",
        "Tipos\n",
        "\n",
        "![Captura de pantalla 2021-10-02 004524.png](data:image/png;base64,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)\n",
        "\n",
        "**Mutable**: permite cambiar el valor una vez asignado el valor sin\n",
        "cambiar el valor de la identidad\n",
        "\n",
        "**Inmutable**: no permite cambiar el valor sin cambiar la identidad\n",
        "…con reservas: una variable inmutable puede contener un ítem\n",
        "que con una parte que sea mutable…por tanto dicha parte será\n",
        "mutable.\n",
        "# Variables Globales y Locales\n",
        "Por defecto las variables son locales.\n",
        "Las variables que creamos en las funciones son variables locales.\n",
        "Las variables que definimos fuera de las funciones son variables globales. Si\n",
        "queremos modificar su contenido debemos utilizar “global”.\n",
        "Ej. declaración variable global:\n"
      ]
    },
    {
      "cell_type": "code",
      "metadata": {
        "colab": {
          "base_uri": "https://localhost:8080/"
        },
        "id": "VanPrpyvDBtV",
        "outputId": "0c4473ee-f05c-4c15-fff2-6abcfe9cbac0"
      },
      "source": [
        "def subrutina():\n",
        " global a\n",
        " print(a)\n",
        " a = 1\n",
        " return\n",
        "a = 5\n",
        "subrutina()\n",
        "print(a)"
      ],
      "execution_count": 12,
      "outputs": [
        {
          "output_type": "stream",
          "name": "stdout",
          "text": [
            "5\n",
            "1\n"
          ]
        }
      ]
    },
    {
      "cell_type": "markdown",
      "metadata": {
        "id": "AIjTwd2EDLN9"
      },
      "source": [
        "# Listas\n",
        "- Como cualquier objeto soporta diferentes métodos y tiene una serie de atributos.\n",
        "\n",
        "**Indexado**\n",
        "- Indexado Simple: Acceso a una posición determinada (como un vector):"
      ]
    },
    {
      "cell_type": "code",
      "metadata": {
        "id": "3s0swIoqDd_F"
      },
      "source": [
        "x = [1, 2, 3, 4]\n",
        "x[2]"
      ],
      "execution_count": null,
      "outputs": []
    },
    {
      "cell_type": "code",
      "metadata": {
        "colab": {
          "base_uri": "https://localhost:8080/"
        },
        "id": "ao_xGJOWDj06",
        "outputId": "92c8f9cd-c4bd-450e-dd7c-05097d6f8a30"
      },
      "source": [
        "x = [1, 2, [3, -3], 4, 5]\n",
        "y = x[2]\n",
        "print(y)"
      ],
      "execution_count": 14,
      "outputs": [
        {
          "output_type": "stream",
          "name": "stdout",
          "text": [
            "[3, -3]\n"
          ]
        }
      ]
    },
    {
      "cell_type": "code",
      "metadata": {
        "colab": {
          "base_uri": "https://localhost:8080/"
        },
        "id": "HGi8PSOdDqon",
        "outputId": "e40e0769-d5b6-45ac-a711-6a937256349f"
      },
      "source": [
        "x[2][1]"
      ],
      "execution_count": 15,
      "outputs": [
        {
          "output_type": "execute_result",
          "data": {
            "text/plain": [
              "-3"
            ]
          },
          "metadata": {},
          "execution_count": 15
        }
      ]
    },
    {
      "cell_type": "code",
      "metadata": {
        "colab": {
          "base_uri": "https://localhost:8080/"
        },
        "id": "69sbHkNdDtvO",
        "outputId": "1e82f320-e00c-47e6-f2d3-00904f0016cf"
      },
      "source": [
        "y[1]"
      ],
      "execution_count": 16,
      "outputs": [
        {
          "output_type": "execute_result",
          "data": {
            "text/plain": [
              "-3"
            ]
          },
          "metadata": {},
          "execution_count": 16
        }
      ]
    },
    {
      "cell_type": "code",
      "metadata": {
        "colab": {
          "base_uri": "https://localhost:8080/"
        },
        "id": "QyJlyi06Du5P",
        "outputId": "464803c8-486b-4181-dfd6-38ec977c3983"
      },
      "source": [
        "x[-1] # Acceso a la última posición del vector\n"
      ],
      "execution_count": 17,
      "outputs": [
        {
          "output_type": "execute_result",
          "data": {
            "text/plain": [
              "5"
            ]
          },
          "metadata": {},
          "execution_count": 17
        }
      ]
    },
    {
      "cell_type": "markdown",
      "metadata": {
        "id": "V52xtF5YD4rs"
      },
      "source": [
        "- Slicing:\n",
        "Permite uso de sublistas [i:j] entre i (inclusive) y j (no inclusive): [i,j)"
      ]
    },
    {
      "cell_type": "code",
      "metadata": {
        "id": "Eh3r1vzeD9Ck"
      },
      "source": [
        "x[2:5]"
      ],
      "execution_count": null,
      "outputs": []
    },
    {
      "cell_type": "markdown",
      "metadata": {
        "id": "TxSrI4T_D_Eq"
      },
      "source": [
        "- len(variable): Función de python (no método) que nos da el\n",
        "número de elementos que forman la variable:\n"
      ]
    },
    {
      "cell_type": "code",
      "metadata": {
        "colab": {
          "base_uri": "https://localhost:8080/"
        },
        "id": "SzTF2mm4ECeC",
        "outputId": "37321906-728a-453b-e5a1-233f8c225dde"
      },
      "source": [
        "lista=['juan','ana','luis','marcos','ana']\n",
        "len(lista)"
      ],
      "execution_count": 18,
      "outputs": [
        {
          "output_type": "execute_result",
          "data": {
            "text/plain": [
              "5"
            ]
          },
          "metadata": {},
          "execution_count": 18
        }
      ]
    },
    {
      "cell_type": "markdown",
      "metadata": {
        "id": "pPm-kHfWEHiS"
      },
      "source": [
        "**Copia**"
      ]
    },
    {
      "cell_type": "code",
      "metadata": {
        "id": "-Q_4qIVPELK8"
      },
      "source": [
        "y=x[:]\n",
        "print(y)"
      ],
      "execution_count": null,
      "outputs": []
    },
    {
      "cell_type": "markdown",
      "metadata": {
        "id": "WGRuHhZ6EN9a"
      },
      "source": [
        "**Inserción**\n",
        "- Append, Extend e Insert\n",
        "\n",
        "Métodos que permiten añadir y eliminar elementos de la lista"
      ]
    },
    {
      "cell_type": "code",
      "metadata": {
        "colab": {
          "base_uri": "https://localhost:8080/"
        },
        "id": "QFMi97WUEU3z",
        "outputId": "cc81bbaf-c810-4e12-abef-1c66c0c33fe1"
      },
      "source": [
        "x.append('6')\n",
        "x"
      ],
      "execution_count": 19,
      "outputs": [
        {
          "output_type": "execute_result",
          "data": {
            "text/plain": [
              "[1, 2, [3, -3], 4, 5, '6']"
            ]
          },
          "metadata": {},
          "execution_count": 19
        }
      ]
    },
    {
      "cell_type": "code",
      "metadata": {
        "id": "ATHulTFCEggh"
      },
      "source": [
        "c=[20,30]\n",
        "x.append(c)\n",
        "x"
      ],
      "execution_count": null,
      "outputs": []
    },
    {
      "cell_type": "markdown",
      "metadata": {
        "id": "LpLiTVWxElFo"
      },
      "source": [
        "Para añadir los elementos de uno en uno, utilizar Extend. (ver resultado en caso\n",
        "de haber usado extend)\n"
      ]
    },
    {
      "cell_type": "code",
      "metadata": {
        "id": "w61b20RYEmti"
      },
      "source": [
        "x.extend(c)\n",
        "x"
      ],
      "execution_count": null,
      "outputs": []
    },
    {
      "cell_type": "markdown",
      "metadata": {
        "id": "owyYDmqfEsdg"
      },
      "source": [
        " - Insert: añade un elemento en la posición que le indicamos en el primer\n",
        "parámetro. Uso: insert(posición,elemento)"
      ]
    },
    {
      "cell_type": "code",
      "metadata": {
        "id": "WBiWM_kLE0Ai"
      },
      "source": [
        "lista=['juan','ana','luis']\n",
        "lista.insert(0,'carlos')\n",
        "lista"
      ],
      "execution_count": null,
      "outputs": []
    },
    {
      "cell_type": "markdown",
      "metadata": {
        "id": "kIDHUzwjFjAG"
      },
      "source": [
        "Uso de eval(\"6+5\") : función que evalúa una expresión contenida en una\n",
        "cadena\n"
      ]
    },
    {
      "cell_type": "code",
      "metadata": {
        "id": "St_YmNOGFmtL"
      },
      "source": [
        "x.append(eval(\"3+3\"))\n",
        "x"
      ],
      "execution_count": null,
      "outputs": []
    },
    {
      "cell_type": "markdown",
      "metadata": {
        "id": "PoNTnBWkFrAW"
      },
      "source": [
        "También podríamos haberlo convertido a entero\n"
      ]
    },
    {
      "cell_type": "code",
      "metadata": {
        "id": "T1TKf356Fs70"
      },
      "source": [
        "x.append(int(\"6\"))\n",
        "x"
      ],
      "execution_count": null,
      "outputs": []
    },
    {
      "cell_type": "markdown",
      "metadata": {
        "id": "t02red8NFwyF"
      },
      "source": [
        "**Extracción**\n",
        " - Pop ([posición]): Extrae (y devuelve) un elemento de la\n",
        "posición indicada. Si no se le indica valor de la posición\n",
        "extraerá el último."
      ]
    },
    {
      "cell_type": "code",
      "metadata": {
        "id": "0nIi6I0gF2o1"
      },
      "source": [
        "lista=['juan','ana','luis','marcos']\n",
        "lista.pop(1)"
      ],
      "execution_count": null,
      "outputs": []
    },
    {
      "cell_type": "code",
      "metadata": {
        "id": "wgKqifXPF6oC"
      },
      "source": [
        "a = lista.pop()\n",
        "a"
      ],
      "execution_count": null,
      "outputs": []
    },
    {
      "cell_type": "markdown",
      "metadata": {
        "id": "lUTePE8IF9vt"
      },
      "source": [
        "**Borrado** \n",
        "- Remove y Del\n",
        "\n",
        ">>remove: permiten eliminar la primera ocurrencia de un elemento en la lista\n",
        "\n",
        "\n",
        "\n"
      ]
    },
    {
      "cell_type": "code",
      "metadata": {
        "id": "NuNyLx7VGOIr"
      },
      "source": [
        "x.remove(6)\n",
        "x"
      ],
      "execution_count": null,
      "outputs": []
    },
    {
      "cell_type": "markdown",
      "metadata": {
        "id": "THfprcFpGUQv"
      },
      "source": [
        "Si no hay ningún valor que cumpla da un error:\n",
        "\n",
        "\\>>> ValueError: list.remove(x): x not in list\n",
        "\n",
        ">> del: permite el borrado mediante los índices y/o slicing. No es un método, sino una función de Python"
      ]
    },
    {
      "cell_type": "code",
      "metadata": {
        "id": "RkxRgCg6Gnex"
      },
      "source": [
        "del x[2]\n",
        "x"
      ],
      "execution_count": null,
      "outputs": []
    },
    {
      "cell_type": "code",
      "metadata": {
        "id": "O__PVg6hGrDa"
      },
      "source": [
        "del x[:3] # Ojo no se incluye la posición 3 en el intervalo\n",
        "x"
      ],
      "execution_count": null,
      "outputs": []
    },
    {
      "cell_type": "markdown",
      "metadata": {
        "id": "RJig-_Z1GwvT"
      },
      "source": [
        ">Borrado Salteado\n"
      ]
    },
    {
      "cell_type": "code",
      "metadata": {
        "colab": {
          "base_uri": "https://localhost:8080/"
        },
        "id": "gP1A8mirG1Pt",
        "outputId": "d4c7b5dc-8f3c-48b3-e940-ee8e299e0d58"
      },
      "source": [
        "lista=['juan','ana','carlos','maria','pedro']\n",
        "del lista[::2]\n",
        "print (lista) # ['ana', 'maria'] "
      ],
      "execution_count": 21,
      "outputs": [
        {
          "output_type": "stream",
          "name": "stdout",
          "text": [
            "['ana', 'maria']\n"
          ]
        }
      ]
    },
    {
      "cell_type": "markdown",
      "metadata": {
        "id": "8ZWSRpBwHHN1"
      },
      "source": [
        "# Diccionarios\n",
        "Un diccionario es una secuencia de ítems. Cada ítem es un par\n",
        "(clave: valor) o (Key: value) Tanto clave como valor pueden ser\n",
        "cualquier tipo de dato o estructura.\n",
        "Una característica importante es que no soportan la\n",
        "ordenación."
      ]
    },
    {
      "cell_type": "code",
      "metadata": {
        "id": "RL1F4iHHHN4k"
      },
      "source": [
        "materias = {}\n",
        "materias[\"lunes\"] = [\"APD\", \"IGE\", \"GAP\"]\n",
        "materias[\"martes\"] = [\"APD\", \"IGE\", \"GAP\"]\n",
        "materias[\"miércoles\"] = [\"SAP\", \"HCTD\"]\n",
        "materias[\"jueves\"] = [\"SAP\", \"HCTD\"]\n",
        "materias[\"viernes\"] = []\n"
      ],
      "execution_count": null,
      "outputs": []
    },
    {
      "cell_type": "markdown",
      "metadata": {
        "id": "BQXET653HRpA"
      },
      "source": [
        "- Métodos ítems, keys, values\n",
        "  \n",
        "  Se puede obtener la lista de valores:\n",
        "  "
      ]
    },
    {
      "cell_type": "code",
      "metadata": {
        "id": "sGw6cRSnHYtx"
      },
      "source": [
        "materias.items()"
      ],
      "execution_count": null,
      "outputs": []
    },
    {
      "cell_type": "markdown",
      "metadata": {
        "id": "9N3sNFxgHcdi"
      },
      "source": [
        "Se puede acceder a la lista de claves o valores de manera independiente."
      ]
    },
    {
      "cell_type": "code",
      "metadata": {
        "id": "451DXBojHgYa"
      },
      "source": [
        "materias.keys()"
      ],
      "execution_count": null,
      "outputs": []
    },
    {
      "cell_type": "code",
      "metadata": {
        "id": "ngU6AFClHit7"
      },
      "source": [
        "materias.values()"
      ],
      "execution_count": null,
      "outputs": []
    },
    {
      "cell_type": "markdown",
      "metadata": {
        "id": "8UN1CZV_HkpR"
      },
      "source": [
        "Se puede acceder al valor de una clave concreta:\n"
      ]
    },
    {
      "cell_type": "code",
      "metadata": {
        "id": "og0eJguoHmX3"
      },
      "source": [
        "materias['lunes']"
      ],
      "execution_count": null,
      "outputs": []
    },
    {
      "cell_type": "markdown",
      "metadata": {
        "id": "QMNGQwg8HoQ8"
      },
      "source": [
        "- Búsqueda en claves y valores"
      ]
    },
    {
      "cell_type": "code",
      "metadata": {
        "id": "jY6UVP7zHqbB"
      },
      "source": [
        "'IGE' in materias['lunes']"
      ],
      "execution_count": null,
      "outputs": []
    },
    {
      "cell_type": "code",
      "metadata": {
        "id": "oqGaMSeZHr5V"
      },
      "source": [
        "'IGE' in materias['jueves']"
      ],
      "execution_count": null,
      "outputs": []
    },
    {
      "cell_type": "markdown",
      "metadata": {
        "id": "-Km122_7HuqT"
      },
      "source": [
        "- Copia"
      ]
    },
    {
      "cell_type": "code",
      "metadata": {
        "id": "7oHCFV0WH5fi"
      },
      "source": [
        "mater=materias.copy() # Ojo, se asigna un id diferente"
      ],
      "execution_count": null,
      "outputs": []
    },
    {
      "cell_type": "markdown",
      "metadata": {
        "id": "ru5Vfqo0H8Bh"
      },
      "source": [
        "- Borrado (del y clear)\n",
        "\n",
        " del: borra el elemento dada su clave, no es un método, sino una\n",
        "función de Python"
      ]
    },
    {
      "cell_type": "code",
      "metadata": {
        "id": "jObAzKROIIy5"
      },
      "source": [
        "del mater['lunes']\n"
      ],
      "execution_count": null,
      "outputs": []
    },
    {
      "cell_type": "markdown",
      "metadata": {
        "id": "cGLWmqypILxs"
      },
      "source": [
        ">clear: borra todo el diccionario"
      ]
    },
    {
      "cell_type": "code",
      "metadata": {
        "id": "bAe-z4OAIO_y"
      },
      "source": [
        "mater.clear()"
      ],
      "execution_count": null,
      "outputs": []
    },
    {
      "cell_type": "markdown",
      "metadata": {
        "id": "aKBW3k3-IXe-"
      },
      "source": [
        "**Otros ejemplos de diccionarios**"
      ]
    },
    {
      "cell_type": "code",
      "metadata": {
        "id": "JZAleBbGIZwx"
      },
      "source": [
        "mater[12,34,'abc'] = ('uno','dos',3)\n",
        "mater.items()"
      ],
      "execution_count": null,
      "outputs": []
    },
    {
      "cell_type": "markdown",
      "metadata": {
        "id": "psNaF-7IIlV1"
      },
      "source": [
        "**Ejemplos Range**\n"
      ]
    },
    {
      "cell_type": "code",
      "metadata": {
        "id": "-SiVJ5fEIqN2"
      },
      "source": [
        "range(10)\n",
        "list(range(10))\n",
        "list(range(5, 10))\n",
        "list(range(-5, 1))"
      ],
      "execution_count": null,
      "outputs": []
    },
    {
      "cell_type": "markdown",
      "metadata": {
        "id": "KsuaoKncI1Xo"
      },
      "source": [
        "# Operadores\n",
        "- Operadores aritméticos (ya vistos)\n",
        "- Operadores de comparación\n",
        "Los operadores de comparación se usan para evaluar expresiones que solo\n",
        "pueden tener 2 resultados, estos resultados son verdadero o falso (true\n",
        "o false) y son los siguientes.\n",
        "\n",
        " == , evalúa como verdadero si 2 variables son iguales\n",
        "\n",
        " != ,evalúa como verdadero si 2 variables son diferentes\n",
        "\n",
        " \\<> , lo mismo que !=\n",
        "\n",
        "  \\> , verdadero si operador a la izquierda es mayor que el de la derecha\n",
        "\n",
        " < , verdadero si operador a la izquierda es menor que el de la derecha\n",
        "\n",
        " \\>= verdadero si operador a la izquierda es mayor o igual al derecho\n",
        "\n",
        " <= verdadero si operador a la izquierda es menor o igual al derecho"
      ]
    },
    {
      "cell_type": "code",
      "metadata": {
        "id": "oCa1gcoZJVRS"
      },
      "source": [
        "5<10\n",
        "5>=10\n",
        "\"hola\"==\"hola\"\n",
        "13!=7"
      ],
      "execution_count": null,
      "outputs": []
    },
    {
      "cell_type": "markdown",
      "metadata": {
        "id": "T87U0OKtJa07"
      },
      "source": [
        "# Indentación (Tabulación). Control del Flujo\n",
        "- for, while:\n",
        "\n",
        " Python no usa {} para controlar el flujo, sino\n",
        "el código se estructura de forma tabular…\n",
        "\n",
        " count = 0\n",
        " \n",
        " for x in range(5,10):\n",
        ">print(x, count)\n",
        "\n",
        " >count += 1"
      ]
    },
    {
      "cell_type": "code",
      "metadata": {
        "colab": {
          "base_uri": "https://localhost:8080/"
        },
        "id": "1V1iMWcSKOgP",
        "outputId": "375eeb7e-7e2d-4a18-bf4b-abfa29e3615b"
      },
      "source": [
        "count = 0\n",
        "for x in range(5,10):\n",
        "  print(x, count)\n",
        "  count += 1\n"
      ],
      "execution_count": 23,
      "outputs": [
        {
          "output_type": "stream",
          "name": "stdout",
          "text": [
            "5 0\n",
            "6 1\n",
            "7 2\n",
            "8 3\n",
            "9 4\n"
          ]
        }
      ]
    },
    {
      "cell_type": "code",
      "metadata": {
        "id": "wXIgVd94KXMM"
      },
      "source": [
        "S = 0\n",
        "while (S < 100):\n",
        "  S += (S+1)**2\n",
        "  if S > 100:\n",
        "  break\n"
      ],
      "execution_count": null,
      "outputs": []
    },
    {
      "cell_type": "markdown",
      "metadata": {
        "id": "5m_DEZVYKmd9"
      },
      "source": [
        "- if:"
      ]
    },
    {
      "cell_type": "code",
      "metadata": {
        "colab": {
          "base_uri": "https://localhost:8080/"
        },
        "id": "SZJ0z3-LKnKo",
        "outputId": "cd597f57-8d4a-4890-dca9-c5e41454a2f1"
      },
      "source": [
        "var = 100\n",
        "if var == 200:\n",
        "  print (\"1 - Got a true expression value\")\n",
        "  print (var)\n",
        "elif var == 150:\n",
        "  print (\"2 - Got a true expression value\")\n",
        "  print (var)\n",
        "elif var == 100:\n",
        "  print (\"3 - Got a true expression value\")\n",
        "  print (var)\n",
        "else:\n",
        "  print (\"4 - Got a false expression value\")\n",
        "  print (var)\n",
        "  print (\"Good bye!\")\n"
      ],
      "execution_count": 26,
      "outputs": [
        {
          "output_type": "stream",
          "name": "stdout",
          "text": [
            "3 - Got a true expression value\n",
            "100\n"
          ]
        }
      ]
    },
    {
      "cell_type": "markdown",
      "metadata": {
        "id": "ROE9pRJ9LsE6"
      },
      "source": [
        "- Secuencias de escape Break, continue, pass\n",
        "\n",
        "**break**: para salir del bucle en cualquier momento\n",
        "\n",
        "**continue**: para seguir con la siguiente iteración, no sigue con lo que\n",
        "hay debajo\n",
        "\n",
        "**pass**: no hace nada"
      ]
    },
    {
      "cell_type": "markdown",
      "metadata": {
        "id": "ieRiHEw8MKZF"
      },
      "source": [
        "# Funciones\n",
        "- Definición:"
      ]
    },
    {
      "cell_type": "code",
      "metadata": {
        "id": "EmbPQJJ8MSe3"
      },
      "source": [
        "def compute_surface(radius):\n",
        "  from math import pi\n",
        "  return pi* radius * radius"
      ],
      "execution_count": 27,
      "outputs": []
    },
    {
      "cell_type": "markdown",
      "metadata": {
        "id": "0xKOyNR2MX9F"
      },
      "source": [
        "- Llamada:"
      ]
    },
    {
      "cell_type": "code",
      "metadata": {
        "colab": {
          "base_uri": "https://localhost:8080/"
        },
        "id": "lQUeibncMY1W",
        "outputId": "d89c4084-6213-47ff-d479-8d658879cc3e"
      },
      "source": [
        "surface = compute_surface(2.)\n",
        "surface"
      ],
      "execution_count": 28,
      "outputs": [
        {
          "output_type": "execute_result",
          "data": {
            "text/plain": [
              "12.566370614359172"
            ]
          },
          "metadata": {},
          "execution_count": 28
        }
      ]
    },
    {
      "cell_type": "markdown",
      "metadata": {
        "id": "yczgI_i2MlBL"
      },
      "source": [
        "# Orientación a Objetos\n",
        "Objetos, Clases, Instancias\n",
        "\n",
        "Atributos y Métodos\n",
        "\n",
        "Instancia.atributo\n",
        "\n",
        "Instancia.método ()\n",
        "\n",
        "Diferencia entre Función y Método"
      ]
    },
    {
      "cell_type": "markdown",
      "metadata": {
        "id": "XdGdxxfkNSwG"
      },
      "source": [
        "# Módulos y paquetes\n",
        "**Módulos**: son archivos (scripts .py) que contienen código,\n",
        "funciones o variables Python.\n",
        "Por ejemplo, si quiero usar la constante PI, ésta viene incluida en\n",
        "el módulo math.\n",
        "\n",
        "Para utilizar un módulo primero debemos importarlo."
      ]
    },
    {
      "cell_type": "code",
      "metadata": {
        "id": "1gp85DR6NnOZ"
      },
      "source": [
        "import math # Importa todo lo contenido en el módulo\n",
        "from math import *"
      ],
      "execution_count": 30,
      "outputs": []
    },
    {
      "cell_type": "markdown",
      "metadata": {
        "id": "xWsJMvIgNwnv"
      },
      "source": [
        "Ejemplos de uso:\n"
      ]
    },
    {
      "cell_type": "code",
      "metadata": {
        "colab": {
          "base_uri": "https://localhost:8080/"
        },
        "id": "ow545yIVN-Wi",
        "outputId": "b4ddff0f-2efd-4723-a44f-43bf16312f7f"
      },
      "source": [
        "R=3\n",
        "surface = math.pi * R**2\n",
        "surface"
      ],
      "execution_count": 31,
      "outputs": [
        {
          "output_type": "execute_result",
          "data": {
            "text/plain": [
              "28.274333882308138"
            ]
          },
          "metadata": {},
          "execution_count": 31
        }
      ]
    },
    {
      "cell_type": "code",
      "metadata": {
        "colab": {
          "base_uri": "https://localhost:8080/"
        },
        "id": "_1xwY7eMOJiN",
        "outputId": "a93b3dff-3aae-4e7b-eea3-9b89ec5d3e11"
      },
      "source": [
        "potencia = math.pow(2,3)\n",
        "potencia"
      ],
      "execution_count": 33,
      "outputs": [
        {
          "output_type": "execute_result",
          "data": {
            "text/plain": [
              "8.0"
            ]
          },
          "metadata": {},
          "execution_count": 33
        }
      ]
    },
    {
      "cell_type": "markdown",
      "metadata": {
        "id": "vG6bVckCORwG"
      },
      "source": [
        "Otras formas de importación"
      ]
    },
    {
      "cell_type": "code",
      "metadata": {
        "id": "qEzRgVMbOUeq"
      },
      "source": [
        "import math as matem # Importa todo lo contenido en el módulo pero le asigna un nombre diferente\n",
        "from math import pi # Sólo importa el valor de pi\n",
        "import math, sys # Importa dos módulos"
      ],
      "execution_count": null,
      "outputs": []
    },
    {
      "cell_type": "code",
      "metadata": {
        "id": "YbU4F92zO00P"
      },
      "source": [
        ""
      ],
      "execution_count": null,
      "outputs": []
    },
    {
      "cell_type": "markdown",
      "metadata": {
        "id": "iETkGlgZOzeg"
      },
      "source": [
        "# Instalación de Google OR-Tools\n",
        "Lo haremos como haciendo uso del tipico metodo de instalación de Python, con la herramienta pip install"
      ]
    },
    {
      "cell_type": "code",
      "metadata": {
        "id": "wsiE-c2VPXhd"
      },
      "source": [
        "pip install ortools"
      ],
      "execution_count": null,
      "outputs": []
    }
  ]
}